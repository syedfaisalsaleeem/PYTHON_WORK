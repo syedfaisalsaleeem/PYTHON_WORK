{
 "cells": [
  {
   "cell_type": "code",
   "execution_count": 1,
   "metadata": {},
   "outputs": [],
   "source": [
    "#in the previous days computer have a mb \n",
    "#in old days we have to read sequentially\n",
    "#due to sequential disk storage there was no way to know that how much was the balance in the account a prevouis day because it could store only one past day  "
   ]
  },
  {
   "cell_type": "markdown",
   "metadata": {},
   "source": [
    "Relational databases model data by storing rows and columns in tables.the power of the relational database lies in its ability\n",
    "to efficently retreive data from those tables and in particular where there are multiple tables and the relationship between those tables involved in the query."
   ]
  },
  {
   "cell_type": "markdown",
   "metadata": {},
   "source": [
    "1)Data base= contains many labels\n",
    "2)Relation or table= contains tuple and attributes\n",
    "3)Tuple or row= a set of field that generally represents an\"object\"like a person or a music track\n",
    "4)Attribute (also column or field)=one of the possibly many elements of data corresponding to the object represented by row"
   ]
  },
  {
   "cell_type": "code",
   "execution_count": 2,
   "metadata": {},
   "outputs": [],
   "source": [
    "#sql=structured query language is the language we used to issue commands to database\n",
    "#1 create a table\n",
    "#2 Reterive some data\n",
    "#3 insert data\n",
    "#4 delete data"
   ]
  },
  {
   "cell_type": "code",
   "execution_count": 3,
   "metadata": {},
   "outputs": [],
   "source": [
    "#web applicatons w/ DataBases\n",
    "#Application Developer=BUilds the logic for application, the look and feel of the application-monitors the application for problems\n",
    "#DataBase Administrator=monitors and adjusts the data base as the program runs in the production\n",
    "#Often both people participate in the building of data model"
   ]
  },
  {
   "cell_type": "code",
   "execution_count": 4,
   "metadata": {},
   "outputs": [],
   "source": [
    "#sql insert command"
   ]
  },
  {
   "cell_type": "code",
   "execution_count": 5,
   "metadata": {},
   "outputs": [],
   "source": [
    "#INSERT INTO Users(name,email)Values(faisal,syedfaisal@hotmail.com)\n",
    "#INSERT INTO =>is a sql key work\n",
    "#Users=>the name of table\n",
    "#(name,email)=>columns\n",
    "#name corresponds to faisal\n",
    "#email corresponds to syedfaisal@hotmail.com"
   ]
  },
  {
   "cell_type": "code",
   "execution_count": 6,
   "metadata": {},
   "outputs": [],
   "source": [
    "#sql Delete command"
   ]
  },
  {
   "cell_type": "code",
   "execution_count": 7,
   "metadata": {},
   "outputs": [],
   "source": [
    "#delete a row in a table based on the selection criteria\n",
    "#DELETE FROM Users WHERE email='ted@umich.edu'"
   ]
  },
  {
   "cell_type": "code",
   "execution_count": 8,
   "metadata": {},
   "outputs": [],
   "source": [
    "#sql Update command\n",
    "#UPDATE Users SET name=\"Charles\" WHERE email='csev@umich.edu'\n",
    "#it updates or replaces the set already field "
   ]
  },
  {
   "cell_type": "code",
   "execution_count": 9,
   "metadata": {},
   "outputs": [],
   "source": [
    "#select * FROM Users =>command  reterive all the elements(rows and columns) in the database"
   ]
  },
  {
   "cell_type": "code",
   "execution_count": 10,
   "metadata": {},
   "outputs": [],
   "source": [
    "#https://www.py4e.com/lectures3/Pythonlearn-15-Database-Handout.txt =>dr chuck commands for sql"
   ]
  },
  {
   "cell_type": "code",
   "execution_count": 11,
   "metadata": {},
   "outputs": [],
   "source": [
    "#SELECT * FROM Users WHERE email='csev@umich.edu' =>it picks certain rows in data base"
   ]
  },
  {
   "cell_type": "code",
   "execution_count": 12,
   "metadata": {},
   "outputs": [],
   "source": [
    "#SELECT * FROM Users ORDER BY email => arrange the database in ascending order of email"
   ]
  },
  {
   "cell_type": "code",
   "execution_count": 13,
   "metadata": {},
   "outputs": [],
   "source": [
    "#SELECT * FROM Users ORDER BY name => arrange the database in ascending order of name"
   ]
  },
  {
   "cell_type": "code",
   "execution_count": 14,
   "metadata": {},
   "outputs": [],
   "source": [
    "#DATA BASE design is an art form of its own with particular skills and experience"
   ]
  },
  {
   "cell_type": "code",
   "execution_count": 16,
   "metadata": {},
   "outputs": [],
   "source": [
    "#our goal is to avoid the really bad mistakes and design clean and easily understood databases\n",
    "#others may perfomance tune things later\n",
    "#Data base design starts with a picture"
   ]
  },
  {
   "cell_type": "code",
   "execution_count": 17,
   "metadata": {},
   "outputs": [
    {
     "name": "stdout",
     "output_type": "stream",
     "text": [
      "['a', 'b', 'c', 1, 2, 3]\n"
     ]
    }
   ],
   "source": [
    "x=['a','b','c']+[1,2,3]\n",
    "print(x)"
   ]
  },
  {
   "cell_type": "code",
   "execution_count": 21,
   "metadata": {},
   "outputs": [
    {
     "data": {
      "text/plain": [
       "[1, 2, 3, 4, 5, 6]"
      ]
     },
     "execution_count": 21,
     "metadata": {},
     "output_type": "execute_result"
    }
   ],
   "source": [
    "x=[1,2,3,4,5,6]\n",
    "x[:]"
   ]
  },
  {
   "cell_type": "code",
   "execution_count": null,
   "metadata": {},
   "outputs": [],
   "source": []
  }
 ],
 "metadata": {
  "kernelspec": {
   "display_name": "Python 3",
   "language": "python",
   "name": "python3"
  },
  "language_info": {
   "codemirror_mode": {
    "name": "ipython",
    "version": 3
   },
   "file_extension": ".py",
   "mimetype": "text/x-python",
   "name": "python",
   "nbconvert_exporter": "python",
   "pygments_lexer": "ipython3",
   "version": "3.7.3"
  }
 },
 "nbformat": 4,
 "nbformat_minor": 2
}
